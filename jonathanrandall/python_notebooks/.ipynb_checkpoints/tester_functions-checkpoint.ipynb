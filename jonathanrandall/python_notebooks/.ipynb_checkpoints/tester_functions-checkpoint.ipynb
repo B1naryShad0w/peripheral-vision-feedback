{
 "cells": [
  {
   "cell_type": "code",
   "execution_count": 1,
   "id": "d224b63e",
   "metadata": {},
   "outputs": [],
   "source": [
    "import copy\n",
    "import math\n",
    "\n",
    "\n",
    "import numpy as np\n",
    "import cv2\n",
    "import matplotlib.pyplot as plt\n",
    "import scipy\n",
    "import scipy.optimize\n",
    "import torch\n",
    "import torchvision\n",
    "import torchvision.transforms.functional as tvtf\n",
    "from torchvision.models.detection import MaskRCNN_ResNet50_FPN_Weights,MaskRCNN_ResNet50_FPN_V2_Weights\n",
    "\n",
    "from pathlib import Path\n",
    "import cv2\n",
    "import urllib.request\n",
    "import numpy as np\n",
    "%matplotlib inline\n"
   ]
  },
  {
   "cell_type": "code",
   "execution_count": 3,
   "id": "2a12afec",
   "metadata": {},
   "outputs": [],
   "source": [
    "def load_img(image_url):\n",
    "    req = urllib.request.urlopen('http://192.168.137.86/cam-lo.jpg')\n",
    "    arr = np.asarray(bytearray(req.read()), dtype=np.uint8)\n",
    "    img = cv2.imdecode(arr, -1) # 'Load it as it is'\n",
    "    return img"
   ]
  },
  {
   "cell_type": "code",
   "execution_count": 2,
   "id": "0cb3f8a3",
   "metadata": {},
   "outputs": [],
   "source": [
    "left_eye_url = 'http://192.168.137.86/cam-lo.jpg'"
   ]
  },
  {
   "cell_type": "code",
   "execution_count": 4,
   "id": "54f9a381",
   "metadata": {},
   "outputs": [],
   "source": [
    "import socket\n",
    "\n",
    "host = '192.168.137.41'\n",
    "port = 80\n",
    "\n",
    "# create socket object\n",
    "s = socket.socket(socket.AF_INET, socket.SOCK_STREAM)\n",
    "\n",
    "# connect to ESP32 server\n",
    "s.connect((host, port))\n",
    "\n",
    "# send data to ESP32 server\n",
    "data = \"Hello, ESP32!\"\n",
    "s.sendall(data.encode())\n",
    "\n",
    "# close socket connection\n",
    "s.close()"
   ]
  }
 ],
 "metadata": {
  "kernelspec": {
   "display_name": "Python 3 (ipykernel)",
   "language": "python",
   "name": "python3"
  },
  "language_info": {
   "codemirror_mode": {
    "name": "ipython",
    "version": 3
   },
   "file_extension": ".py",
   "mimetype": "text/x-python",
   "name": "python",
   "nbconvert_exporter": "python",
   "pygments_lexer": "ipython3",
   "version": "3.8.16"
  }
 },
 "nbformat": 4,
 "nbformat_minor": 5
}
