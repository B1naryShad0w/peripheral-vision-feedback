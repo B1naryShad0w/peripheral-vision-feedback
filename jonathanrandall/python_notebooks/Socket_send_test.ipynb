{
 "cells": [
  {
   "cell_type": "code",
   "execution_count": 5,
   "id": "154ceaf7",
   "metadata": {},
   "outputs": [],
   "source": [
    "import socket\n",
    "\n",
    "host = '192.168.137.41'\n",
    "port = 80\n",
    "\n",
    "# create socket object\n",
    "s = socket.socket(socket.AF_INET, socket.SOCK_STREAM)\n",
    "\n",
    "# connect to ESP32 server\n",
    "s.connect((host, port))\n",
    "\n",
    "# send data to ESP32 server\n",
    "data = \"Hello, ESP32!\"\n",
    "s.sendall(data.encode())\n",
    "\n",
    "# close socket connection\n",
    "s.close()"
   ]
  }
 ],
 "metadata": {
  "kernelspec": {
   "display_name": "Python 3 (ipykernel)",
   "language": "python",
   "name": "python3"
  },
  "language_info": {
   "codemirror_mode": {
    "name": "ipython",
    "version": 3
   },
   "file_extension": ".py",
   "mimetype": "text/x-python",
   "name": "python",
   "nbconvert_exporter": "python",
   "pygments_lexer": "ipython3",
   "version": "3.8.16"
  }
 },
 "nbformat": 4,
 "nbformat_minor": 5
}
