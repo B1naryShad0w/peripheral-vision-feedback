{
 "cells": [
  {
   "cell_type": "markdown",
   "id": "6b9244ca",
   "metadata": {},
   "source": [
    "#### ESP32 Stereo Camera Code"
   ]
  },
  {
   "cell_type": "code",
   "execution_count": 2,
   "id": "7850f2ae",
   "metadata": {},
   "outputs": [],
   "source": [
    "import copy\n",
    "import math\n",
    "\n",
    "import requests\n",
    "\n",
    "import numpy as np\n",
    "import cv2\n",
    "import matplotlib.pyplot as plt\n",
    "import scipy\n",
    "import scipy.optimize\n",
    "import torch\n",
    "import torchvision\n",
    "import torchvision.transforms.functional as tvtf\n",
    "from torchvision.models.detection import MaskRCNN_ResNet50_FPN_Weights,MaskRCNN_ResNet50_FPN_V2_Weights\n",
    "%matplotlib inline\n",
    "\n",
    "\n",
    "\n",
    "#this is the file with auxillary functions. stereo_image_utils.py. Should be in the same\n",
    "#directory as the notebook\n",
    "import stereo_image_utils\n",
    "from stereo_image_utils import get_detections, get_cost, draw_detections, annotate_class2 \n",
    "from stereo_image_utils import get_horiz_dist_corner_tl, get_horiz_dist_corner_br, get_dist_to_centre_tl, get_dist_to_centre_br"
   ]
  },
  {
   "cell_type": "code",
   "execution_count": 17,
   "id": "4053c993",
   "metadata": {},
   "outputs": [
    {
     "name": "stdout",
     "output_type": "stream",
     "text": [
      "Requirement already satisfied: opencv-python in c:\\users\\synta\\anaconda3\\lib\\site-packages (4.7.0.72)\n",
      "Requirement already satisfied: numpy>=1.17.3 in c:\\users\\synta\\anaconda3\\lib\\site-packages (from opencv-python) (1.23.5)\n",
      "Note: you may need to restart the kernel to use updated packages.\n"
     ]
    },
    {
     "name": "stderr",
     "output_type": "stream",
     "text": [
      "WARNING: Ignoring invalid distribution -umpy (c:\\users\\synta\\anaconda3\\lib\\site-packages)\n",
      "WARNING: Ignoring invalid distribution -umpy (c:\\users\\synta\\anaconda3\\lib\\site-packages)\n",
      "WARNING: Ignoring invalid distribution -umpy (c:\\users\\synta\\anaconda3\\lib\\site-packages)\n",
      "WARNING: Ignoring invalid distribution -umpy (c:\\users\\synta\\anaconda3\\lib\\site-packages)\n",
      "WARNING: Ignoring invalid distribution -umpy (c:\\users\\synta\\anaconda3\\lib\\site-packages)\n",
      "WARNING: Ignoring invalid distribution -umpy (c:\\users\\synta\\anaconda3\\lib\\site-packages)\n"
     ]
    }
   ],
   "source": [
    "pip install opencv-python"
   ]
  },
  {
   "cell_type": "code",
   "execution_count": 3,
   "id": "e06b3f76",
   "metadata": {},
   "outputs": [],
   "source": [
    "URL_left = \"http://192.168.137.86\"\n",
    "URL_right = \"http://192.168.137.86\"\n",
    "AWB = True\n",
    "cnt = 1\n",
    "\n",
    "#focal length. Pre-calibrated in stereo_image_v6 notebook\n",
    "fl = 2.043636363636363\n",
    "tantheta = 0.7648732789907391\n",
    "\n"
   ]
  },
  {
   "cell_type": "code",
   "execution_count": 4,
   "id": "92314dba",
   "metadata": {},
   "outputs": [],
   "source": [
    "weights=MaskRCNN_ResNet50_FPN_V2_Weights.DEFAULT\n",
    "\n",
    "COLOURS = [\n",
    "    tuple(int(colour_hex.strip('#')[i:i+2], 16) for i in (0, 2, 4))\n",
    "    for colour_hex in plt.rcParams['axes.prop_cycle'].by_key()['color']\n",
    "]"
   ]
  },
  {
   "cell_type": "code",
   "execution_count": 32,
   "id": "8526bac4",
   "metadata": {},
   "outputs": [],
   "source": [
    "model = torchvision.models.detection.maskrcnn_resnet50_fpn_v2(weights=weights)\n",
    "_ = model.eval()"
   ]
  },
  {
   "cell_type": "code",
   "execution_count": 19,
   "id": "92ddaf9d",
   "metadata": {},
   "outputs": [
    {
     "ename": "error",
     "evalue": "OpenCV(4.7.0) D:\\a\\opencv-python\\opencv-python\\opencv\\modules\\highgui\\src\\window.cpp:1272: error: (-2:Unspecified error) The function is not implemented. Rebuild the library with Windows, GTK+ 2.x or Cocoa support. If you are on Ubuntu or Debian, install libgtk2.0-dev and pkg-config, then re-run cmake or configure script in function 'cvShowImage'\n",
     "output_type": "error",
     "traceback": [
      "\u001b[1;31m---------------------------------------------------------------------------\u001b[0m",
      "\u001b[1;31merror\u001b[0m                                     Traceback (most recent call last)",
      "Cell \u001b[1;32mIn[19], line 9\u001b[0m\n\u001b[0;32m      6\u001b[0m arr \u001b[38;5;241m=\u001b[39m np\u001b[38;5;241m.\u001b[39masarray(\u001b[38;5;28mbytearray\u001b[39m(req\u001b[38;5;241m.\u001b[39mread()), dtype\u001b[38;5;241m=\u001b[39mnp\u001b[38;5;241m.\u001b[39muint8)\n\u001b[0;32m      7\u001b[0m img \u001b[38;5;241m=\u001b[39m cv2\u001b[38;5;241m.\u001b[39mimdecode(arr, \u001b[38;5;241m-\u001b[39m\u001b[38;5;241m1\u001b[39m) \u001b[38;5;66;03m# 'Load it as it is'\u001b[39;00m\n\u001b[1;32m----> 9\u001b[0m \u001b[43mcv2\u001b[49m\u001b[38;5;241;43m.\u001b[39;49m\u001b[43mimshow\u001b[49m\u001b[43m(\u001b[49m\u001b[38;5;124;43m'\u001b[39;49m\u001b[38;5;124;43mrandom_title\u001b[39;49m\u001b[38;5;124;43m'\u001b[39;49m\u001b[43m,\u001b[49m\u001b[43m \u001b[49m\u001b[43mimg\u001b[49m\u001b[43m)\u001b[49m\n\u001b[0;32m     10\u001b[0m \u001b[38;5;28;01mif\u001b[39;00m cv2\u001b[38;5;241m.\u001b[39mwaitKey() \u001b[38;5;241m&\u001b[39m \u001b[38;5;241m0xff\u001b[39m \u001b[38;5;241m==\u001b[39m \u001b[38;5;241m27\u001b[39m: quit()\n",
      "\u001b[1;31merror\u001b[0m: OpenCV(4.7.0) D:\\a\\opencv-python\\opencv-python\\opencv\\modules\\highgui\\src\\window.cpp:1272: error: (-2:Unspecified error) The function is not implemented. Rebuild the library with Windows, GTK+ 2.x or Cocoa support. If you are on Ubuntu or Debian, install libgtk2.0-dev and pkg-config, then re-run cmake or configure script in function 'cvShowImage'\n"
     ]
    }
   ],
   "source": [
    "import cv2\n",
    "import urllib.request\n",
    "import numpy as np\n",
    "\n",
    "req = urllib.request.urlopen('http://192.168.137.86/cam-lo.jpg')\n",
    "arr = np.asarray(bytearray(req.read()), dtype=np.uint8)\n",
    "img = cv2.imdecode(arr, -1) # 'Load it as it is'\n",
    "\n",
    "cv2.imshow('random_title', img)\n",
    "if cv2.waitKey() & 0xff == 27: quit()"
   ]
  },
  {
   "cell_type": "code",
   "execution_count": 15,
   "id": "24b712e1",
   "metadata": {},
   "outputs": [],
   "source": [
    "def load_img(filename):\n",
    "    img = cv2.imread(filename)\n",
    "    return cv2.cvtColor(img, cv2.COLOR_BGR2RGB)"
   ]
  },
  {
   "cell_type": "code",
   "execution_count": 16,
   "id": "d83a4d5c",
   "metadata": {},
   "outputs": [
    {
     "ename": "error",
     "evalue": "OpenCV(4.7.0) D:\\a\\opencv-python\\opencv-python\\opencv\\modules\\imgproc\\src\\color.cpp:182: error: (-215:Assertion failed) !_src.empty() in function 'cv::cvtColor'\n",
     "output_type": "error",
     "traceback": [
      "\u001b[1;31m---------------------------------------------------------------------------\u001b[0m",
      "\u001b[1;31merror\u001b[0m                                     Traceback (most recent call last)",
      "Cell \u001b[1;32mIn[16], line 4\u001b[0m\n\u001b[0;32m      1\u001b[0m \u001b[38;5;66;03m#capture the images\u001b[39;00m\n\u001b[0;32m      2\u001b[0m \u001b[38;5;66;03m#cap_left = cv2.VideoCapture(\"http://192.168.137.86/stream\")\u001b[39;00m\n\u001b[0;32m      3\u001b[0m \u001b[38;5;66;03m#cap_left = cv2.VideoCapture('http://commondatastorage.googleapis.com/gtv-videos-bucket/sample/ForBiggerEscapes.mp4')\u001b[39;00m\n\u001b[1;32m----> 4\u001b[0m cap_img \u001b[38;5;241m=\u001b[39m \u001b[43mload_img\u001b[49m\u001b[43m(\u001b[49m\u001b[38;5;124;43m\"\u001b[39;49m\u001b[38;5;124;43m192.168.137.86/cam-lo.jpg\u001b[39;49m\u001b[38;5;124;43m\"\u001b[39;49m\u001b[43m)\u001b[49m\n\u001b[0;32m      6\u001b[0m \u001b[38;5;66;03m#cap_right = cv2.VideoCapture(\"http://192.168.137.41\")\u001b[39;00m\n\u001b[0;32m      7\u001b[0m \u001b[38;5;66;03m# + \":81/stream\"\u001b[39;00m\n\u001b[0;32m      8\u001b[0m \u001b[38;5;66;03m#print(cap_left.isOpened())\u001b[39;00m\n\u001b[0;32m      9\u001b[0m \u001b[38;5;28mprint\u001b[39m(cap_img\u001b[38;5;241m.\u001b[39mshape, cap_img\u001b[38;5;241m.\u001b[39mdtype)\n",
      "Cell \u001b[1;32mIn[15], line 3\u001b[0m, in \u001b[0;36mload_img\u001b[1;34m(filename)\u001b[0m\n\u001b[0;32m      1\u001b[0m \u001b[38;5;28;01mdef\u001b[39;00m \u001b[38;5;21mload_img\u001b[39m(filename):\n\u001b[0;32m      2\u001b[0m     img \u001b[38;5;241m=\u001b[39m cv2\u001b[38;5;241m.\u001b[39mimread(filename)\n\u001b[1;32m----> 3\u001b[0m     \u001b[38;5;28;01mreturn\u001b[39;00m \u001b[43mcv2\u001b[49m\u001b[38;5;241;43m.\u001b[39;49m\u001b[43mcvtColor\u001b[49m\u001b[43m(\u001b[49m\u001b[43mimg\u001b[49m\u001b[43m,\u001b[49m\u001b[43m \u001b[49m\u001b[43mcv2\u001b[49m\u001b[38;5;241;43m.\u001b[39;49m\u001b[43mCOLOR_BGR2RGB\u001b[49m\u001b[43m)\u001b[49m\n",
      "\u001b[1;31merror\u001b[0m: OpenCV(4.7.0) D:\\a\\opencv-python\\opencv-python\\opencv\\modules\\imgproc\\src\\color.cpp:182: error: (-215:Assertion failed) !_src.empty() in function 'cv::cvtColor'\n"
     ]
    }
   ],
   "source": [
    "#capture the images\n",
    "#cap_left = cv2.VideoCapture(\"http://192.168.137.86/stream\")\n",
    "#cap_left = cv2.VideoCapture('http://commondatastorage.googleapis.com/gtv-videos-bucket/sample/ForBiggerEscapes.mp4')\n",
    "cap_img = load_img(\"192.168.137.86/cam-lo.jpg\")\n",
    "\n",
    "#cap_right = cv2.VideoCapture(\"http://192.168.137.41\")\n",
    "# + \":81/stream\"\n",
    "#print(cap_left.isOpened())\n",
    "print(cap_img.shape, cap_img.dtype)"
   ]
  },
  {
   "cell_type": "code",
   "execution_count": 10,
   "id": "871b3abf",
   "metadata": {},
   "outputs": [
    {
     "ename": "error",
     "evalue": "OpenCV(4.7.0) D:\\a\\opencv-python\\opencv-python\\opencv\\modules\\highgui\\src\\window.cpp:971: error: (-215:Assertion failed) size.width>0 && size.height>0 in function 'cv::imshow'\n",
     "output_type": "error",
     "traceback": [
      "\u001b[1;31m---------------------------------------------------------------------------\u001b[0m",
      "\u001b[1;31merror\u001b[0m                                     Traceback (most recent call last)",
      "Cell \u001b[1;32mIn[10], line 1\u001b[0m\n\u001b[1;32m----> 1\u001b[0m \u001b[43mcv2\u001b[49m\u001b[38;5;241;43m.\u001b[39;49m\u001b[43mimshow\u001b[49m\u001b[43m(\u001b[49m\u001b[38;5;124;43m'\u001b[39;49m\u001b[38;5;124;43mImageWindow\u001b[39;49m\u001b[38;5;124;43m'\u001b[39;49m\u001b[43m,\u001b[49m\u001b[43m \u001b[49m\u001b[43mcap_img\u001b[49m\u001b[43m)\u001b[49m\n\u001b[0;32m      2\u001b[0m cv2\u001b[38;5;241m.\u001b[39mwaitKey()\n",
      "\u001b[1;31merror\u001b[0m: OpenCV(4.7.0) D:\\a\\opencv-python\\opencv-python\\opencv\\modules\\highgui\\src\\window.cpp:971: error: (-215:Assertion failed) size.width>0 && size.height>0 in function 'cv::imshow'\n"
     ]
    }
   ],
   "source": [
    "cv2.imshow('ImageWindow', cap_img)\n",
    "cv2.waitKey()"
   ]
  },
  {
   "cell_type": "code",
   "execution_count": 8,
   "id": "fbf98d98",
   "metadata": {},
   "outputs": [
    {
     "ename": "error",
     "evalue": "OpenCV(4.7.0) D:\\a\\opencv-python\\opencv-python\\opencv\\modules\\highgui\\src\\window.cpp:1272: error: (-2:Unspecified error) The function is not implemented. Rebuild the library with Windows, GTK+ 2.x or Cocoa support. If you are on Ubuntu or Debian, install libgtk2.0-dev and pkg-config, then re-run cmake or configure script in function 'cvShowImage'\n",
     "output_type": "error",
     "traceback": [
      "\u001b[1;31m---------------------------------------------------------------------------\u001b[0m",
      "\u001b[1;31merror\u001b[0m                                     Traceback (most recent call last)",
      "Cell \u001b[1;32mIn[8], line 7\u001b[0m\n\u001b[0;32m      4\u001b[0m \u001b[38;5;66;03m#print cap.isOpened(), ret\u001b[39;00m\n\u001b[0;32m      5\u001b[0m \u001b[38;5;28;01mif\u001b[39;00m frame \u001b[38;5;129;01mis\u001b[39;00m \u001b[38;5;129;01mnot\u001b[39;00m \u001b[38;5;28;01mNone\u001b[39;00m:\n\u001b[0;32m      6\u001b[0m     \u001b[38;5;66;03m# Display the resulting frame\u001b[39;00m\n\u001b[1;32m----> 7\u001b[0m     \u001b[43mcv2\u001b[49m\u001b[38;5;241;43m.\u001b[39;49m\u001b[43mimshow\u001b[49m\u001b[43m(\u001b[49m\u001b[38;5;124;43m'\u001b[39;49m\u001b[38;5;124;43mframe\u001b[39;49m\u001b[38;5;124;43m'\u001b[39;49m\u001b[43m,\u001b[49m\u001b[43mframe\u001b[49m\u001b[43m)\u001b[49m\n\u001b[0;32m      8\u001b[0m     \u001b[38;5;66;03m# Press q to close the video windows before it ends if you want\u001b[39;00m\n\u001b[0;32m      9\u001b[0m     \u001b[38;5;28;01mif\u001b[39;00m cv2\u001b[38;5;241m.\u001b[39mwaitKey(\u001b[38;5;241m22\u001b[39m) \u001b[38;5;241m&\u001b[39m \u001b[38;5;241m0xFF\u001b[39m \u001b[38;5;241m==\u001b[39m \u001b[38;5;28mord\u001b[39m(\u001b[38;5;124m'\u001b[39m\u001b[38;5;124mq\u001b[39m\u001b[38;5;124m'\u001b[39m):\n",
      "\u001b[1;31merror\u001b[0m: OpenCV(4.7.0) D:\\a\\opencv-python\\opencv-python\\opencv\\modules\\highgui\\src\\window.cpp:1272: error: (-2:Unspecified error) The function is not implemented. Rebuild the library with Windows, GTK+ 2.x or Cocoa support. If you are on Ubuntu or Debian, install libgtk2.0-dev and pkg-config, then re-run cmake or configure script in function 'cvShowImage'\n"
     ]
    }
   ],
   "source": [
    "while(True):\n",
    "    # Capture frame-by-frame\n",
    "    ret, frame = cap_left.read()\n",
    "    #print cap.isOpened(), ret\n",
    "    if frame is not None:\n",
    "        # Display the resulting frame\n",
    "        cv2.imshow('frame',frame)\n",
    "        # Press q to close the video windows before it ends if you want\n",
    "        if cv2.waitKey(22) & 0xFF == ord('q'):\n",
    "            break\n",
    "    else:\n",
    "        print (\"Frame is None\")\n",
    "        break\n",
    "\n",
    "# When everything done, release the capture\n",
    "vcap.release()\n",
    "cv2.destroyAllWindows()\n",
    "print (\"Video stop\")"
   ]
  },
  {
   "cell_type": "code",
   "execution_count": 94,
   "id": "70e9f86c",
   "metadata": {},
   "outputs": [
    {
     "ename": "error",
     "evalue": "OpenCV(4.7.0) :-1: error: (-5:Bad argument) in function 'read'\n> Overload resolution failed:\n>  - image is not a numpy array, neither a scalar\n>  - Expected Ptr<cv::UMat> for argument 'image'\n",
     "output_type": "error",
     "traceback": [
      "\u001b[1;31m---------------------------------------------------------------------------\u001b[0m",
      "\u001b[1;31merror\u001b[0m                                     Traceback (most recent call last)",
      "Cell \u001b[1;32mIn[94], line 1\u001b[0m\n\u001b[1;32m----> 1\u001b[0m ret, frame \u001b[38;5;241m=\u001b[39m \u001b[43mcamera\u001b[49m\u001b[38;5;241;43m.\u001b[39;49m\u001b[43mread\u001b[49m\u001b[43m(\u001b[49m\u001b[38;5;124;43m\"\u001b[39;49m\u001b[38;5;124;43m192.168.137.86\u001b[39;49m\u001b[38;5;124;43m\"\u001b[39;49m\u001b[43m)\u001b[49m\n\u001b[0;32m      2\u001b[0m plt\u001b[38;5;241m.\u001b[39mimshow(frame)\n\u001b[0;32m      3\u001b[0m plt\u001b[38;5;241m.\u001b[39mtitle(\u001b[38;5;124m'\u001b[39m\u001b[38;5;124mEl Bruno - Office\u001b[39m\u001b[38;5;124m'\u001b[39m)\n",
      "\u001b[1;31merror\u001b[0m: OpenCV(4.7.0) :-1: error: (-5:Bad argument) in function 'read'\n> Overload resolution failed:\n>  - image is not a numpy array, neither a scalar\n>  - Expected Ptr<cv::UMat> for argument 'image'\n"
     ]
    }
   ],
   "source": [
    "ret, frame = camera.read(\"192.168.137.86\")\n",
    "plt.imshow(frame)\n",
    "plt.title('El Bruno - Office')\n",
    "plt.show()"
   ]
  },
  {
   "cell_type": "code",
   "execution_count": 103,
   "id": "20ca60bb",
   "metadata": {},
   "outputs": [
    {
     "ename": "error",
     "evalue": "OpenCV(4.7.0) D:\\a\\opencv-python\\opencv-python\\opencv\\modules\\highgui\\src\\window.cpp:1272: error: (-2:Unspecified error) The function is not implemented. Rebuild the library with Windows, GTK+ 2.x or Cocoa support. If you are on Ubuntu or Debian, install libgtk2.0-dev and pkg-config, then re-run cmake or configure script in function 'cvShowImage'\n",
     "output_type": "error",
     "traceback": [
      "\u001b[1;31m---------------------------------------------------------------------------\u001b[0m",
      "\u001b[1;31merror\u001b[0m                                     Traceback (most recent call last)",
      "Cell \u001b[1;32mIn[103], line 5\u001b[0m\n\u001b[0;32m      1\u001b[0m \u001b[38;5;28;01mwhile\u001b[39;00m \u001b[38;5;28;01mTrue\u001b[39;00m:\n\u001b[0;32m      2\u001b[0m     success, img \u001b[38;5;241m=\u001b[39m cap_left\u001b[38;5;241m.\u001b[39mread()\n\u001b[1;32m----> 5\u001b[0m     \u001b[43mcv2\u001b[49m\u001b[38;5;241;43m.\u001b[39;49m\u001b[43mimshow\u001b[49m\u001b[43m(\u001b[49m\u001b[38;5;124;43m\"\u001b[39;49m\u001b[38;5;124;43mImage\u001b[39;49m\u001b[38;5;124;43m\"\u001b[39;49m\u001b[43m,\u001b[49m\u001b[43m \u001b[49m\u001b[43mimg\u001b[49m\u001b[43m)\u001b[49m\n\u001b[0;32m      8\u001b[0m cap\u001b[38;5;241m.\u001b[39mrelease()\n",
      "\u001b[1;31merror\u001b[0m: OpenCV(4.7.0) D:\\a\\opencv-python\\opencv-python\\opencv\\modules\\highgui\\src\\window.cpp:1272: error: (-2:Unspecified error) The function is not implemented. Rebuild the library with Windows, GTK+ 2.x or Cocoa support. If you are on Ubuntu or Debian, install libgtk2.0-dev and pkg-config, then re-run cmake or configure script in function 'cvShowImage'\n"
     ]
    }
   ],
   "source": [
    "while True:\n",
    "    success, img = cap_left.read()\n",
    "\n",
    "    \n",
    "    cv2.imshow(\"Image\", img)\n",
    "\n",
    "\n",
    "cap.release()"
   ]
  },
  {
   "cell_type": "code",
   "execution_count": 104,
   "id": "91033cfc",
   "metadata": {},
   "outputs": [
    {
     "name": "stdout",
     "output_type": "stream",
     "text": [
      "^C\n",
      "Note: you may need to restart the kernel to use updated packages.\n"
     ]
    }
   ],
   "source": [
    "pip uninstall opencv-python; pip install opencv-python"
   ]
  },
  {
   "cell_type": "code",
   "execution_count": 48,
   "id": "62326a8b",
   "metadata": {},
   "outputs": [
    {
     "ename": "AttributeError",
     "evalue": "'NoneType' object has no attribute 'shape'",
     "output_type": "error",
     "traceback": [
      "\u001b[1;31m---------------------------------------------------------------------------\u001b[0m",
      "\u001b[1;31mAttributeError\u001b[0m                            Traceback (most recent call last)",
      "Cell \u001b[1;32mIn[48], line 2\u001b[0m\n\u001b[0;32m      1\u001b[0m im \u001b[38;5;241m=\u001b[39m cv2\u001b[38;5;241m.\u001b[39mimread(\u001b[38;5;124m'\u001b[39m\u001b[38;5;124mleft_eye\u001b[39m\u001b[38;5;124m'\u001b[39m,\u001b[38;5;241m0\u001b[39m)\n\u001b[1;32m----> 2\u001b[0m h,w \u001b[38;5;241m=\u001b[39m \u001b[43mim\u001b[49m\u001b[38;5;241;43m.\u001b[39;49m\u001b[43mshape\u001b[49m[:\u001b[38;5;241m2\u001b[39m]\n\u001b[0;32m      3\u001b[0m \u001b[38;5;28mprint\u001b[39m(im\u001b[38;5;241m.\u001b[39mshape)\n\u001b[0;32m      4\u001b[0m plt\u001b[38;5;241m.\u001b[39mimshow(im,cmap\u001b[38;5;241m=\u001b[39m\u001b[38;5;124m'\u001b[39m\u001b[38;5;124mgray\u001b[39m\u001b[38;5;124m'\u001b[39m)\n",
      "\u001b[1;31mAttributeError\u001b[0m: 'NoneType' object has no attribute 'shape'"
     ]
    }
   ],
   "source": [
    "im = cv2.imread('left_eye',0)\n",
    "h,w = im.shape[:2]\n",
    "print(im.shape)\n",
    "plt.imshow(im,cmap='gray')\n",
    "plt.show()"
   ]
  },
  {
   "cell_type": "code",
   "execution_count": 46,
   "id": "18718661",
   "metadata": {},
   "outputs": [],
   "source": [
    "#functions for the command handler\n",
    "\n",
    "def set_resolution(url: str, index: int=1, verbose: bool=False):\n",
    "    try:\n",
    "        if verbose:\n",
    "            resolutions = \"10: UXGA(1600x1200)\\n9: SXGA(1280x1024)\\n8: XGA(1024x768)\\n7: SVGA(800x600)\\n6: VGA(640x480)\\n5: CIF(400x296)\\n4: QVGA(320x240)\\n3: HQVGA(240x176)\\n0: QQVGA(160x120)\"\n",
    "            print(\"available resolutions\\n{}\".format(resolutions))\n",
    "\n",
    "        if index in [10, 9, 8, 7, 6, 5, 4, 3, 0]:\n",
    "            requests.get(url + \"/control?var=framesize&val={}\".format(index))\n",
    "        else:\n",
    "            print(\"Wrong index\")\n",
    "    except:\n",
    "        print(\"SET_RESOLUTION: something went wrong\")\n",
    "\n",
    "def set_quality(url: str, value: int=1, verbose: bool=False):\n",
    "    try:\n",
    "        if value >= 10 and value <=63:\n",
    "            requests.get(url + \"/control?var=quality&val={}\".format(value))\n",
    "    except:\n",
    "        print(\"SET_QUALITY: something went wrong\")\n",
    "\n",
    "def set_awb(url: str, awb: int=1):\n",
    "    try:\n",
    "        awb = not awb\n",
    "        requests.get(url + \"/control?var=awb&val={}\".format(1 if awb else 0))\n",
    "    except:\n",
    "        print(\"SET_QUALITY: something went wrong\")\n",
    "    return awb\n",
    "\n",
    "\n",
    "#26 37 38"
   ]
  },
  {
   "cell_type": "code",
   "execution_count": null,
   "id": "19b58418",
   "metadata": {},
   "outputs": [],
   "source": []
  },
  {
   "cell_type": "code",
   "execution_count": 45,
   "id": "59abfb1e",
   "metadata": {},
   "outputs": [
    {
     "ename": "KeyboardInterrupt",
     "evalue": "",
     "output_type": "error",
     "traceback": [
      "\u001b[1;31m---------------------------------------------------------------------------\u001b[0m",
      "\u001b[1;31mKeyboardInterrupt\u001b[0m                         Traceback (most recent call last)",
      "Cell \u001b[1;32mIn[45], line 7\u001b[0m\n\u001b[0;32m      5\u001b[0m ret_l \u001b[38;5;241m=\u001b[39m \u001b[38;5;28;01mFalse\u001b[39;00m\n\u001b[0;32m      6\u001b[0m \u001b[38;5;28;01mwhile\u001b[39;00m \u001b[38;5;28;01mTrue\u001b[39;00m:\n\u001b[1;32m----> 7\u001b[0m     \u001b[38;5;28;01mif\u001b[39;00m \u001b[43mcap_left\u001b[49m\u001b[38;5;241;43m.\u001b[39;49m\u001b[43misOpened\u001b[49m\u001b[43m(\u001b[49m\u001b[43m)\u001b[49m:\n\u001b[0;32m      8\u001b[0m         ret_l, frame_l \u001b[38;5;241m=\u001b[39m cap_left\u001b[38;5;241m.\u001b[39mread()\n\u001b[0;32m      9\u001b[0m         \u001b[38;5;28;01mif\u001b[39;00m ret_l:\n",
      "\u001b[1;31mKeyboardInterrupt\u001b[0m: "
     ]
    }
   ],
   "source": [
    "if __name__ == '__main__':\n",
    "    set_resolution(URL_left, index=10)\n",
    "    set_resolution(URL_right, index=10)\n",
    "    ret_r = False\n",
    "    ret_l = False\n",
    "    while True:\n",
    "        if cap_left.isOpened():\n",
    "            ret_l, frame_l = cap_left.read()\n",
    "            if ret_l:\n",
    "                cv2.imshow(\"left_eye\", frame_l) \n",
    "            else:\n",
    "                cap_left.release()\n",
    "                cap_left = cv2.VideoCapture(URL_left + \":81/stream\")\n",
    "\n",
    "        if cap_right.isOpened():\n",
    "            ret_r, frame_r = cap_right.read()\n",
    "\n",
    "            if ret_r:\n",
    "                cv2.imshow(\"right_eye\", frame_r) \n",
    "            else:\n",
    "                cap_right.release()\n",
    "                cap_right = cv2.VideoCapture(URL_right + \":81/stream\")\n",
    "        \n",
    "        if ret_r and ret_l :\n",
    "            #do stereo matching\n",
    "            imgs = [cv2.cvtColor(frame_l, cv2.COLOR_BGR2RGB),cv2.cvtColor(frame_r, cv2.COLOR_BGR2RGB)]\n",
    "            if cnt == 0:\n",
    "                cnt = 1\n",
    "                \n",
    "                det, lbls, scores, masks = get_detections(model,imgs)\n",
    "#                 if (len(det[1])==len(det[0])):\n",
    "#                     det[1] = det[1][:-1]\n",
    "                sz1 = frame_r.shape[1]\n",
    "                centre = sz1/2\n",
    "                print(det)\n",
    "                print(np.array(weights.meta[\"categories\"])[lbls[0]])\n",
    "                print(np.array(weights.meta[\"categories\"])[lbls[1]])\n",
    "                cost = get_cost(det, lbls = lbls,sz1 = centre)\n",
    "                tracks = scipy.optimize.linear_sum_assignment(cost)\n",
    "\n",
    "                dists_tl =  get_horiz_dist_corner_tl(det)\n",
    "                dists_br =  get_horiz_dist_corner_br(det)\n",
    "\n",
    "                final_dists = []\n",
    "                dctl = get_dist_to_centre_tl(det[0],cntr = centre)\n",
    "                dcbr = get_dist_to_centre_br(det[0], cntr = centre)\n",
    "\n",
    "                for i, j in zip(*tracks):\n",
    "                    if dctl[i] < dcbr[i]:\n",
    "                        final_dists.append((dists_tl[i][j],np.array(weights.meta[\"categories\"])[lbls[0]][i]))\n",
    "\n",
    "                    else:\n",
    "                        final_dists.append((dists_br[i][j],np.array(weights.meta[\"categories\"])[lbls[0]][i]))\n",
    "                \n",
    "                #final distances as list\n",
    "                fd = [i for (i,j) in final_dists]\n",
    "                #find distance away\n",
    "                dists_away = (7.05/2)*sz1*(1/tantheta)/np.array((fd))+fl\n",
    "                cat_dist = []\n",
    "                for i in range(len(dists_away)):\n",
    "                    cat_dist.append(f'{np.array(weights.meta[\"categories\"])[lbls[0]][(tracks[0][i])]} {dists_away[i]:.1f}cm')\n",
    "                    print(f'{np.array(weights.meta[\"categories\"])[lbls[0]][(tracks[0][i])]} is {dists_away[i]:.1f}cm away')\n",
    "                t1 = [list(tracks[1]), list(tracks[0])]\n",
    "                frames_ret = []\n",
    "                for i, imgi in enumerate(imgs):\n",
    "                    img = imgi.copy()\n",
    "                    deti = det[i].astype(np.int32)\n",
    "                    draw_detections(img,deti[list(tracks[i])], obj_order=list(t1[1]))\n",
    "                    annotate_class2(img,deti[list(tracks[i])],lbls[i][list(tracks[i])],cat_dist)\n",
    "                    frames_ret.append(img)\n",
    "                cv2.imshow(\"left_eye\", cv2.cvtColor(frames_ret[0],cv2.COLOR_RGB2BGR))\n",
    "                cv2.imshow(\"right_eye\", cv2.cvtColor(frames_ret[1],cv2.COLOR_RGB2BGR))\n",
    "                while True:\n",
    "                    key1 = cv2.waitKey(1)\n",
    "                    if key1 == ord('p'):\n",
    "                        break\n",
    "#                 key1 = cv2.waitKey(1)\n",
    "\n",
    "\n",
    "    #cv2.destroyAllWindows()\n",
    "    #cap_left.release()\n",
    "    #cap_right.release()"
   ]
  },
  {
   "cell_type": "code",
   "execution_count": null,
   "id": "62dca46f",
   "metadata": {},
   "outputs": [],
   "source": []
  }
 ],
 "metadata": {
  "kernelspec": {
   "display_name": "Python 3 (ipykernel)",
   "language": "python",
   "name": "python3"
  },
  "language_info": {
   "codemirror_mode": {
    "name": "ipython",
    "version": 3
   },
   "file_extension": ".py",
   "mimetype": "text/x-python",
   "name": "python",
   "nbconvert_exporter": "python",
   "pygments_lexer": "ipython3",
   "version": "3.8.16"
  }
 },
 "nbformat": 4,
 "nbformat_minor": 5
}
