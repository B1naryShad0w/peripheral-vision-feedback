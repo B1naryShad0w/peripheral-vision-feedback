{
 "cells": [
  {
   "cell_type": "code",
   "execution_count": 5,
   "id": "154ceaf7",
   "metadata": {},
   "outputs": [],
   "source": [
    "import requests\n",
    "\n",
    "host = 'http://192.168.137.41'\n",
    "port = 80\n",
    "\n",
    "url = f\"{host}:{port}/send_data\"\n",
    "\n",
    "data = \"Hello, ESP32!\"\n",
    "response = requests.post(url, data={'data': data})\n",
    "\n",
    "if response.status_code == 200:\n",
    "    print(\"Data sent successfully!\")\n",
    "else:\n",
    "    print(f\"Failed to send data. Status code: {response.status_code}\")"
   ]
  }
 ],
 "metadata": {
  "kernelspec": {
   "display_name": "Python 3 (ipykernel)",
   "language": "python",
   "name": "python3"
  },
  "language_info": {
   "codemirror_mode": {
    "name": "ipython",
    "version": 3
   },
   "file_extension": ".py",
   "mimetype": "text/x-python",
   "name": "python",
   "nbconvert_exporter": "python",
   "pygments_lexer": "ipython3",
   "version": "3.8.16"
  }
 },
 "nbformat": 4,
 "nbformat_minor": 5
}
